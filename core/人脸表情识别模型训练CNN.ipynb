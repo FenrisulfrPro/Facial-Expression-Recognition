{
 "cells": [
  {
   "cell_type": "code",
   "execution_count": 1,
   "metadata": {},
   "outputs": [
    {
     "name": "stderr",
     "output_type": "stream",
     "text": [
      "Using TensorFlow backend.\n"
     ]
    }
   ],
   "source": [
    "import keras\n",
    "import pandas as pd\n",
    "import numpy as np\n",
    "import matplotlib.pyplot as plt\n",
    "from keras.utils import np_utils\n",
    "from keras.models import Sequential,model_from_json\n",
    "from keras.utils.vis_utils import plot_model\n",
    "from keras.layers import SimpleRNN,Dense,Activation,Conv2D,MaxPool2D,Dropout,Flatten,MaxPooling2D,AveragePooling2D\n",
    "from tensorflow.keras.optimizers import SGD,Adam\n",
    "from keras.preprocessing.image import ImageDataGenerator"
   ]
  },
  {
   "cell_type": "code",
   "execution_count": 2,
   "metadata": {},
   "outputs": [
    {
     "name": "stdout",
     "output_type": "stream",
     "text": [
      "数据集的数量为： 35887\n"
     ]
    }
   ],
   "source": [
    "path = r\"D:\\AI\\fer2013\\fer2013.csv\"\n",
    "data = pd.read_csv(path)\n",
    "num_of_instances = len(data) #获取数据集的数量\n",
    "print(\"数据集的数量为：\",num_of_instances)\n",
    "\n",
    "pixels = data['pixels']\n",
    "emotions = data['emotion']\n",
    "usages = data['Usage']"
   ]
  },
  {
   "cell_type": "code",
   "execution_count": 3,
   "metadata": {},
   "outputs": [],
   "source": [
    "num_classes = 7   #表情的类别数目\n",
    "x_train,y_train,x_test,y_test = [],[],[],[]\n",
    "\n",
    "for emotion,img,usage in zip(emotions,pixels,usages):    \n",
    "    try: \n",
    "        emotion = keras.utils.to_categorical(emotion,num_classes)   # 独热向量编码\n",
    "        val = img.split(\" \")\n",
    "        pixels = np.array(val,'float32')\n",
    "        \n",
    "        if(usage == 'Training'):\n",
    "            x_train.append(pixels)\n",
    "            y_train.append(emotion)\n",
    "        elif(usage == 'PublicTest'):\n",
    "            x_test.append(pixels)\n",
    "            y_test.append(emotion)\n",
    "    except:\n",
    "        print(\"\",end=\"\")"
   ]
  },
  {
   "cell_type": "code",
   "execution_count": 4,
   "metadata": {
    "scrolled": true
   },
   "outputs": [],
   "source": [
    "x_train = np.array(x_train)\n",
    "y_train = np.array(y_train)\n",
    "x_train = x_train.reshape(-1,48,48,1)\n",
    "x_test = np.array(x_test)\n",
    "y_test = np.array(y_test)\n",
    "x_test = x_test.reshape(-1,48,48,1)"
   ]
  },
  {
   "cell_type": "code",
   "execution_count": 5,
   "metadata": {
    "scrolled": true
   },
   "outputs": [
    {
     "data": {
      "text/plain": [
       "2"
      ]
     },
     "execution_count": 5,
     "metadata": {},
     "output_type": "execute_result"
    },
    {
     "data": {
      "image/png": "[encoded data removed]",
      "text/plain": [
       "<Figure size 432x288 with 1 Axes>"
      ]
     },
     "metadata": {
      "needs_background": "light"
     },
     "output_type": "display_data"
    }
   ],
   "source": [
    "i = np.random.randint(0,len(x_train))\n",
    "plt.gray()\n",
    "plt.imshow(x_train[i].reshape([48,48]))\n",
    "data['emotion'][i]"
   ]
  },
  {
   "cell_type": "code",
   "execution_count": 15,
   "metadata": {
    "scrolled": true
   },
   "outputs": [
    {
     "name": "stdout",
     "output_type": "stream",
     "text": [
      "Train on 28709 samples, validate on 3589 samples\n",
      "Epoch 1/30\n",
      "28709/28709 [==============================] - 29s 1ms/step - loss: 2.6478 - acc: 0.2303 - val_loss: 1.7867 - val_acc: 0.2510\n",
      "Epoch 2/30\n",
      "28709/28709 [==============================] - 28s 965us/step - loss: 1.7130 - acc: 0.3132 - val_loss: 1.5790 - val_acc: 0.3831\n",
      "Epoch 3/30\n",
      "28709/28709 [==============================] - 28s 966us/step - loss: 1.5632 - acc: 0.3956 - val_loss: 1.4960 - val_acc: 0.4129\n",
      "Epoch 4/30\n",
      "28709/28709 [==============================] - 28s 967us/step - loss: 1.4696 - acc: 0.4366 - val_loss: 1.4259 - val_acc: 0.4472\n",
      "Epoch 5/30\n",
      "28709/28709 [==============================] - 28s 964us/step - loss: 1.3748 - acc: 0.4759 - val_loss: 1.3700 - val_acc: 0.4790\n",
      "Epoch 6/30\n",
      "28709/28709 [==============================] - 28s 965us/step - loss: 1.2918 - acc: 0.5088 - val_loss: 1.3131 - val_acc: 0.4915\n",
      "Epoch 7/30\n",
      "28709/28709 [==============================] - 28s 966us/step - loss: 1.2260 - acc: 0.5335 - val_loss: 1.2658 - val_acc: 0.5219\n",
      "Epoch 8/30\n",
      "28709/28709 [==============================] - 28s 966us/step - loss: 1.1217 - acc: 0.5765 - val_loss: 1.2473 - val_acc: 0.5333\n",
      "Epoch 9/30\n",
      "28709/28709 [==============================] - 28s 967us/step - loss: 1.0415 - acc: 0.6096 - val_loss: 1.2473 - val_acc: 0.5467\n",
      "Epoch 10/30\n",
      "28709/28709 [==============================] - 28s 967us/step - loss: 0.9670 - acc: 0.6349 - val_loss: 1.2457 - val_acc: 0.5436\n",
      "Epoch 11/30\n",
      "28709/28709 [==============================] - 28s 966us/step - loss: 0.8787 - acc: 0.6713 - val_loss: 1.2582 - val_acc: 0.5542\n",
      "Epoch 12/30\n",
      "28709/28709 [==============================] - 28s 965us/step - loss: 0.7897 - acc: 0.7088 - val_loss: 1.3186 - val_acc: 0.5531\n",
      "Epoch 13/30\n",
      "28709/28709 [==============================] - 28s 965us/step - loss: 0.6879 - acc: 0.7466 - val_loss: 1.3759 - val_acc: 0.5639\n",
      "Epoch 14/30\n",
      "28709/28709 [==============================] - 28s 965us/step - loss: 0.6160 - acc: 0.7729 - val_loss: 1.4592 - val_acc: 0.5372\n",
      "Epoch 15/30\n",
      "28709/28709 [==============================] - 28s 964us/step - loss: 0.5471 - acc: 0.7980 - val_loss: 1.5085 - val_acc: 0.5642\n",
      "Epoch 16/30\n",
      "28709/28709 [==============================] - 28s 963us/step - loss: 0.4756 - acc: 0.8282 - val_loss: 1.7179 - val_acc: 0.5581\n",
      "Epoch 17/30\n",
      "28709/28709 [==============================] - 28s 962us/step - loss: 0.4279 - acc: 0.8443 - val_loss: 1.7714 - val_acc: 0.5534\n",
      "Epoch 18/30\n",
      "28709/28709 [==============================] - 28s 967us/step - loss: 0.3655 - acc: 0.8683 - val_loss: 1.9114 - val_acc: 0.5500\n",
      "Epoch 19/30\n",
      "28709/28709 [==============================] - 28s 966us/step - loss: 0.3429 - acc: 0.8755 - val_loss: 1.8646 - val_acc: 0.5528\n",
      "Epoch 20/30\n",
      "28709/28709 [==============================] - 28s 964us/step - loss: 0.3013 - acc: 0.8939 - val_loss: 2.1350 - val_acc: 0.5550\n",
      "Epoch 21/30\n",
      "28709/28709 [==============================] - 28s 962us/step - loss: 0.2639 - acc: 0.9058 - val_loss: 2.2359 - val_acc: 0.5567\n",
      "Epoch 22/30\n",
      "28709/28709 [==============================] - 28s 960us/step - loss: 0.2389 - acc: 0.9168 - val_loss: 2.2652 - val_acc: 0.5609\n",
      "Epoch 23/30\n",
      "28709/28709 [==============================] - 28s 960us/step - loss: 0.2411 - acc: 0.9147 - val_loss: 2.3555 - val_acc: 0.5623\n",
      "Epoch 24/30\n",
      "28709/28709 [==============================] - 27s 958us/step - loss: 0.2206 - acc: 0.9236 - val_loss: 2.2361 - val_acc: 0.5592\n",
      "Epoch 25/30\n",
      "28709/28709 [==============================] - 28s 958us/step - loss: 0.1801 - acc: 0.9378 - val_loss: 2.5059 - val_acc: 0.5464\n",
      "Epoch 26/30\n",
      "28709/28709 [==============================] - 28s 962us/step - loss: 0.1793 - acc: 0.9390 - val_loss: 2.3200 - val_acc: 0.5506\n",
      "Epoch 27/30\n",
      "28709/28709 [==============================] - 27s 957us/step - loss: 0.1790 - acc: 0.9387 - val_loss: 2.6356 - val_acc: 0.5430\n",
      "Epoch 28/30\n",
      "28709/28709 [==============================] - 27s 957us/step - loss: 0.1711 - acc: 0.9415 - val_loss: 2.4450 - val_acc: 0.5536\n",
      "Epoch 29/30\n",
      "28709/28709 [==============================] - 27s 958us/step - loss: 0.1459 - acc: 0.9505 - val_loss: 2.4328 - val_acc: 0.5534\n",
      "Epoch 30/30\n",
      "28709/28709 [==============================] - 27s 957us/step - loss: 0.1481 - acc: 0.9511 - val_loss: 2.5017 - val_acc: 0.5492\n",
      "Train loss: 0.04352424926905152\n",
      "Train accuracy: 98.81570239297781\n",
      "Test loss: 2.50173274970513\n",
      "Test accuracy: 54.91780440275568\n"
     ]
    }
   ],
   "source": [
    "batch_size = 500\n",
    "epochs = 30\n",
    "\n",
    "model = Sequential()\n",
    "\n",
    "#第一层卷积层\n",
    "model.add(Conv2D(input_shape=(48,48,1),filters=32,kernel_size=3,padding='same',activation='relu'))\n",
    "model.add(Conv2D(filters=32,kernel_size=3,padding='same',activation='relu'))\n",
    "model.add(MaxPool2D(pool_size=2, strides=2))\n",
    "\n",
    "#第二层卷积层\n",
    "model.add(Conv2D(filters=64,kernel_size=3,padding='same',activation='relu'))\n",
    "model.add(Conv2D(filters=64,kernel_size=3,padding='same',activation='relu'))\n",
    "model.add(MaxPool2D(pool_size=2, strides=2))\n",
    "\n",
    "#第三层卷积层\n",
    "model.add(Conv2D(filters=128,kernel_size=3,padding='same',activation='relu'))\n",
    "model.add(Conv2D(filters=128,kernel_size=3,padding='same',activation='relu'))\n",
    "model.add(MaxPool2D(pool_size=2, strides=2))\n",
    "\n",
    "model.add(Flatten())\n",
    "\n",
    "#全连接层\n",
    "model.add(Dense(256,activation = 'relu'))\n",
    "model.add(Dropout(0.2))\n",
    "model.add(Dense(128,activation = 'relu'))\n",
    "model.add(Dropout(0.2))\n",
    "model.add(Dense(7,activation = 'softmax'))\n",
    "\n",
    "# #1st convolution layer\n",
    "# model.add(Conv2D(64, (5, 5), activation='relu', input_shape=(48,48,1)))\n",
    "# model.add(MaxPooling2D(pool_size=(5,5), strides=(2, 2)))\n",
    " \n",
    "# #2nd convolution layer\n",
    "# model.add(Conv2D(64, (3, 3), activation='relu'))\n",
    "# model.add(Conv2D(64, (3, 3), activation='relu'))\n",
    "# model.add(AveragePooling2D(pool_size=(3,3), strides=(2, 2)))\n",
    " \n",
    "# #3rd convolution layer\n",
    "# model.add(Conv2D(128, (3, 3), activation='relu'))\n",
    "# model.add(Conv2D(128, (3, 3), activation='relu'))\n",
    "# model.add(AveragePooling2D(pool_size=(3,3), strides=(2, 2)))\n",
    " \n",
    "# model.add(Flatten())\n",
    " \n",
    "# #fully connected neural networks\n",
    "# model.add(Dense(1024, activation='relu'))\n",
    "# model.add(Dropout(1.0))\n",
    "# model.add(Dense(1024, activation='relu'))\n",
    "# model.add(Dropout(1.0))\n",
    "# model.add(Dense(num_classes, activation='softmax'))\n",
    "\n",
    "sgd=SGD(lr=0.01, decay=1e-6, momentum=0.9, nesterov=True)\n",
    "\n",
    "#进行训练\n",
    "model.compile(loss = 'categorical_crossentropy',optimizer = Adam(),metrics=['accuracy'])\n",
    "history = model.fit(x_train,y_train,batch_size=batch_size,epochs=epochs,validation_data=(x_test,y_test))\n",
    "\n",
    "\n",
    "train_score = model.evaluate(x_train, y_train, verbose=0)\n",
    "print('Train loss:', train_score[0])\n",
    "print('Train accuracy:', 100*train_score[1])\n",
    " \n",
    "test_score = model.evaluate(x_test, y_test, verbose=0)\n",
    "print('Test loss:', test_score[0])\n",
    "print('Test accuracy:', 100*test_score[1])\n",
    "\n",
    "model.save('my_model.h5')\n",
    "# model_json = model.to_json()\n",
    "# open('my_model_json.json', 'w').write(model_json)\n",
    "# model.save_weights('my_model_weights.h5')\n"
   ]
  },
  {
   "cell_type": "code",
   "execution_count": 16,
   "metadata": {},
   "outputs": [
    {
     "data": {
      "image/png": "[encoded data removed]",
      "text/plain": [
       "<Figure size 576x288 with 2 Axes>"
      ]
     },
     "metadata": {
      "needs_background": "light"
     },
     "output_type": "display_data"
    }
   ],
   "source": [
    "loss = history.history['loss']\n",
    "val_loss = history.history['val_loss']\n",
    "acc = history.history['acc']\n",
    "val_acc = history.history['val_acc']\n",
    "# make a figure\n",
    "fig = plt.figure(figsize=(8,4))\n",
    "# subplot loss\n",
    "ax1 = fig.add_subplot(121)\n",
    "ax1.plot(loss,label='train_loss')\n",
    "ax1.plot(val_loss,label='val_loss')\n",
    "ax1.set_xlabel('Epochs')\n",
    "ax1.set_ylabel('Loss')\n",
    "ax1.set_title('Loss on Training and Validation Data')\n",
    "ax1.legend()\n",
    "# subplot acc\n",
    "ax2 = fig.add_subplot(122)\n",
    "ax2.plot(acc,label='train_acc')\n",
    "ax2.plot(val_acc,label='val_acc')\n",
    "ax2.set_xlabel('Epochs')\n",
    "ax2.set_ylabel('Accuracy')\n",
    "ax2.set_title('Accuracy  on Training and Validation Data')\n",
    "ax2.legend()\n",
    "plt.tight_layout()\n",
    "# plot_model(model,to_file=('model.png'),show_shapes=True,show_layer_names=False,rankdir='TB')\n",
    "# plt.figure(figsize=(10,10))\n",
    "# img = plt.imread('model.png')\n",
    "# plt.axis('off')\n",
    "# plt.show()"
   ]
  }
 ],
 "metadata": {
  "kernelspec": {
   "display_name": "Python 3",
   "language": "python",
   "name": "python3"
  },
  "language_info": {
   "codemirror_mode": {
    "name": "ipython",
    "version": 3
   },
   "file_extension": ".py",
   "mimetype": "text/x-python",
   "name": "python",
   "nbconvert_exporter": "python",
   "pygments_lexer": "ipython3",
   "version": "3.6.5"
  }
 },
 "nbformat": 4,
 "nbformat_minor": 4
}